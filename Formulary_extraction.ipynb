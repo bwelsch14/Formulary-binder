{
"cells": [
 {
  "cell_type": "code",
  "execution_count": null,
  "metadata": {},
  "outputs": [],
  "source": [
   "print(\"Hello, formulary world!\")"
  ]
 }
],
"metadata": {},
"nbformat": 4,
"nbformat_minor": 2
}
